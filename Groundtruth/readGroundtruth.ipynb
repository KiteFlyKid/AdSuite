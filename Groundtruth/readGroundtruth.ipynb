{
 "cells": [
  {
   "cell_type": "code",
   "execution_count": 1,
   "id": "993c6428-0e5a-476b-9974-16f2f1fc4511",
   "metadata": {},
   "outputs": [],
   "source": [
    "import os\n",
    "import pandas as pd\n",
    "import json"
   ]
  },
  {
   "cell_type": "code",
   "execution_count": 2,
   "id": "62c81d1d-535b-40ff-b9f0-938c0f3ef022",
   "metadata": {},
   "outputs": [],
   "source": [
    "def read_ad(filename):\n",
    "    try:\n",
    "        with open(filename+'/meta.json') as file:\n",
    "            data = json.load(file)\n",
    "        with open(filename+'/activities.json') as file:\n",
    "            activities_data = json.load(file)\n",
    "    except:\n",
    "        return None\n",
    "    # Filter data to include only types 'i', 'c', or 'p'\n",
    "    filtered_data = [item for item in data if item['type'] in ['i', 'c', 'p']]\n",
    "    \n",
    "    # Create a DataFrame with the type and the dict format of the element\n",
    "    if len(filtered_data)==0:\n",
    "        return None\n",
    "    df = pd.DataFrame(filtered_data)\n",
    "    df['element_dict'] = df['element'].apply(lambda x: json.dumps(x))\n",
    "    df_result = df[['type', 'element_dict']]\n",
    "        # Extract the package name and activity from the activities data\n",
    "    df_activities = pd.DataFrame(activities_data, columns=['package_name', 'activity'])\n",
    "    \n",
    "    # Merge the activities DataFrame with the filtered data DataFrame based on index\n",
    "    # Assuming each index in df_result corresponds directly to an index in df_activities\n",
    "    df_result = df_result.join(df_activities)\n",
    "    return df_result"
   ]
  },
  {
   "cell_type": "code",
   "execution_count": 3,
   "id": "e4d61488-6a0f-4ae0-a507-2c5a42e1b34e",
   "metadata": {},
   "outputs": [],
   "source": [
    "dfs=[]\n",
    "for app_name in os.listdir('groundtruth/'):\n",
    "    if app_name[0]=='.':\n",
    "        continue #skip notebook .checkpoints\n",
    "    df_result=read_ad('groundtruth/'+app_name)\n",
    "    dfs.append(df_result)\n",
    "df=pd.concat(dfs,axis=0)"
   ]
  },
  {
   "cell_type": "code",
   "execution_count": 5,
   "id": "07cf96f0-ff67-47bb-86f4-f7ef176a36b1",
   "metadata": {},
   "outputs": [
    {
     "data": {
      "text/html": [
       "<div>\n",
       "<style scoped>\n",
       "    .dataframe tbody tr th:only-of-type {\n",
       "        vertical-align: middle;\n",
       "    }\n",
       "\n",
       "    .dataframe tbody tr th {\n",
       "        vertical-align: top;\n",
       "    }\n",
       "\n",
       "    .dataframe thead th {\n",
       "        text-align: right;\n",
       "    }\n",
       "</style>\n",
       "<table border=\"1\" class=\"dataframe\">\n",
       "  <thead>\n",
       "    <tr style=\"text-align: right;\">\n",
       "      <th></th>\n",
       "      <th>type</th>\n",
       "      <th>element_dict</th>\n",
       "      <th>package_name</th>\n",
       "      <th>activity</th>\n",
       "    </tr>\n",
       "  </thead>\n",
       "  <tbody>\n",
       "    <tr>\n",
       "      <th>0</th>\n",
       "      <td>p</td>\n",
       "      <td>{\"index\": \"0\", \"text\": \"\", \"resource-id\": \"\", ...</td>\n",
       "      <td>paint.by.number.pixel.art.coloring.drawing.puzzle</td>\n",
       "      <td>com.meevii.business.color.draw.ColorDrawActivity</td>\n",
       "    </tr>\n",
       "    <tr>\n",
       "      <th>1</th>\n",
       "      <td>i</td>\n",
       "      <td>{\"index\": \"1\", \"text\": \"\", \"resource-id\": \"pai...</td>\n",
       "      <td>paint.by.number.pixel.art.coloring.drawing.puzzle</td>\n",
       "      <td>com.meevii.business.color.draw.ColorDrawActivity</td>\n",
       "    </tr>\n",
       "    <tr>\n",
       "      <th>0</th>\n",
       "      <td>i</td>\n",
       "      <td>{\"index\": \"1\", \"text\": \"\", \"resource-id\": \"com...</td>\n",
       "      <td>com.dicionario_bibico_free.dicionario_bibico_free</td>\n",
       "      <td>com.zavarise.aplicativos.atividades.main.MainA...</td>\n",
       "    </tr>\n",
       "    <tr>\n",
       "      <th>1</th>\n",
       "      <td>c</td>\n",
       "      <td>{\"index\": \"1\", \"text\": \"\", \"resource-id\": \"\", ...</td>\n",
       "      <td>com.dicionario_bibico_free.dicionario_bibico_free</td>\n",
       "      <td>com.zavarise.aplicativos.atividades.main.MainA...</td>\n",
       "    </tr>\n",
       "    <tr>\n",
       "      <th>2</th>\n",
       "      <td>i</td>\n",
       "      <td>{\"index\": \"0\", \"text\": \"\", \"resource-id\": \"com...</td>\n",
       "      <td>com.dicionario_bibico_free.dicionario_bibico_free</td>\n",
       "      <td>com.zavarise.aplicativos.atividades.main.MainA...</td>\n",
       "    </tr>\n",
       "    <tr>\n",
       "      <th>0</th>\n",
       "      <td>i</td>\n",
       "      <td>{\"index\": \"0\", \"text\": \"\", \"resource-id\": \"com...</td>\n",
       "      <td>com.kitegames.baby.spans.photo.editor</td>\n",
       "      <td>com.kitegames.babysnaps.controllers.activities...</td>\n",
       "    </tr>\n",
       "    <tr>\n",
       "      <th>1</th>\n",
       "      <td>p</td>\n",
       "      <td>{\"index\": \"2\", \"text\": \"\", \"resource-id\": \"\", ...</td>\n",
       "      <td>com.kitegames.baby.spans.photo.editor</td>\n",
       "      <td>com.kitegames.babysnaps.controllers.activities...</td>\n",
       "    </tr>\n",
       "    <tr>\n",
       "      <th>2</th>\n",
       "      <td>c</td>\n",
       "      <td>{\"index\": \"1\", \"text\": \"\", \"resource-id\": \"com...</td>\n",
       "      <td>com.kitegames.baby.spans.photo.editor</td>\n",
       "      <td>com.kitegames.babysnaps.controllers.activities...</td>\n",
       "    </tr>\n",
       "    <tr>\n",
       "      <th>3</th>\n",
       "      <td>c</td>\n",
       "      <td>{\"index\": \"0\", \"text\": \"\", \"resource-id\": \"com...</td>\n",
       "      <td>com.kitegames.baby.spans.photo.editor</td>\n",
       "      <td>com.kitegames.babysnaps.controllers.activities...</td>\n",
       "    </tr>\n",
       "  </tbody>\n",
       "</table>\n",
       "</div>"
      ],
      "text/plain": [
       "  type                                       element_dict  \\\n",
       "0    p  {\"index\": \"0\", \"text\": \"\", \"resource-id\": \"\", ...   \n",
       "1    i  {\"index\": \"1\", \"text\": \"\", \"resource-id\": \"pai...   \n",
       "0    i  {\"index\": \"1\", \"text\": \"\", \"resource-id\": \"com...   \n",
       "1    c  {\"index\": \"1\", \"text\": \"\", \"resource-id\": \"\", ...   \n",
       "2    i  {\"index\": \"0\", \"text\": \"\", \"resource-id\": \"com...   \n",
       "0    i  {\"index\": \"0\", \"text\": \"\", \"resource-id\": \"com...   \n",
       "1    p  {\"index\": \"2\", \"text\": \"\", \"resource-id\": \"\", ...   \n",
       "2    c  {\"index\": \"1\", \"text\": \"\", \"resource-id\": \"com...   \n",
       "3    c  {\"index\": \"0\", \"text\": \"\", \"resource-id\": \"com...   \n",
       "\n",
       "                                        package_name  \\\n",
       "0  paint.by.number.pixel.art.coloring.drawing.puzzle   \n",
       "1  paint.by.number.pixel.art.coloring.drawing.puzzle   \n",
       "0  com.dicionario_bibico_free.dicionario_bibico_free   \n",
       "1  com.dicionario_bibico_free.dicionario_bibico_free   \n",
       "2  com.dicionario_bibico_free.dicionario_bibico_free   \n",
       "0              com.kitegames.baby.spans.photo.editor   \n",
       "1              com.kitegames.baby.spans.photo.editor   \n",
       "2              com.kitegames.baby.spans.photo.editor   \n",
       "3              com.kitegames.baby.spans.photo.editor   \n",
       "\n",
       "                                            activity  \n",
       "0   com.meevii.business.color.draw.ColorDrawActivity  \n",
       "1   com.meevii.business.color.draw.ColorDrawActivity  \n",
       "0  com.zavarise.aplicativos.atividades.main.MainA...  \n",
       "1  com.zavarise.aplicativos.atividades.main.MainA...  \n",
       "2  com.zavarise.aplicativos.atividades.main.MainA...  \n",
       "0  com.kitegames.babysnaps.controllers.activities...  \n",
       "1  com.kitegames.babysnaps.controllers.activities...  \n",
       "2  com.kitegames.babysnaps.controllers.activities...  \n",
       "3  com.kitegames.babysnaps.controllers.activities...  "
      ]
     },
     "execution_count": 5,
     "metadata": {},
     "output_type": "execute_result"
    }
   ],
   "source": [
    "df"
   ]
  },
  {
   "cell_type": "code",
   "execution_count": 11,
   "id": "773eabfd-58a9-414c-b325-2330f6b5be75",
   "metadata": {},
   "outputs": [
    {
     "data": {
      "text/plain": [
       "adview         4\n",
       "custom-made    3\n",
       "popup          2\n",
       "Name: type, dtype: int64"
      ]
     },
     "execution_count": 11,
     "metadata": {},
     "output_type": "execute_result"
    }
   ],
   "source": [
    "mapping_dict = {'p': 'popup', 'i': 'adview', 'c': 'custom-made'}\n",
    "df['type'] = df['type'].apply(lambda x: mapping_dict.get(x, x))\n",
    "df.type.value_counts()"
   ]
  },
  {
   "cell_type": "code",
   "execution_count": null,
   "id": "20e78619-2463-45e7-a0d2-2080c86d7d10",
   "metadata": {},
   "outputs": [],
   "source": []
  }
 ],
 "metadata": {
  "kernelspec": {
   "display_name": "Python 3 (ipykernel)",
   "language": "python",
   "name": "python3"
  },
  "language_info": {
   "codemirror_mode": {
    "name": "ipython",
    "version": 3
   },
   "file_extension": ".py",
   "mimetype": "text/x-python",
   "name": "python",
   "nbconvert_exporter": "python",
   "pygments_lexer": "ipython3",
   "version": "3.9.6"
  }
 },
 "nbformat": 4,
 "nbformat_minor": 5
}
