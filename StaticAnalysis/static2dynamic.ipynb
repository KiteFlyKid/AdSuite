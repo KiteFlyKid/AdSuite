{
 "cells": [
  {
   "cell_type": "markdown",
   "id": "c0cfbdc4-9913-469c-a9b4-ac66139041b1",
   "metadata": {},
   "source": [
    "\n",
    "This notebook is to convert the output of static analysis (e.g., static ad analysis) into the input of dynamic analysis (LLM-based UI exploration)\n",
    "\n"
   ]
  },
  {
   "cell_type": "markdown",
   "id": "0881054c-d865-43f9-a15b-306d58062062",
   "metadata": {},
   "source": [
    "# Ad widgets"
   ]
  },
  {
   "cell_type": "code",
   "execution_count": null,
   "id": "1790b71f-3875-4ff1-9bf9-de18dc027199",
   "metadata": {},
   "outputs": [],
   "source": [
    "First, we will read the json files from `data/json_output`, which is the output dir of static ad analysis. Keep o"
   ]
  },
  {
   "cell_type": "code",
   "execution_count": null,
   "id": "452b229b-1dde-4bee-86df-ed80456881b3",
   "metadata": {},
   "outputs": [],
   "source": [
    "import warnings\n",
    "import pandas as pd"
   ]
  },
  {
   "cell_type": "code",
   "execution_count": null,
   "id": "57498cd6-197b-40ee-9a0c-3c1f9e9f985f",
   "metadata": {},
   "outputs": [],
   "source": [
    "filenames=os.listdir('data/json_output/')\n",
    "filenames=[ filename for filename in filenames if filename.endswith('.json')]"
   ]
  },
  {
   "cell_type": "code",
   "execution_count": null,
   "id": "d12756bc-4ca5-4cca-84a9-9390401c0c72",
   "metadata": {},
   "outputs": [],
   "source": [
    "import pandas as pd\n",
    "from pandas import json_normalize\n",
    "\n",
    "# Function to flatten the 'views' column and extract relevant information\n",
    "def flatten_views(data):\n",
    "    # Initialize an empty DataFrame to hold the flattened data\n",
    "    flattened_data = pd.DataFrame()\n",
    "\n",
    "    # Iterate through each row in the data\n",
    "    for index, row in data.iterrows():\n",
    "        # Normalize the 'views' column to flatten the nested structure\n",
    "        flattened_views = json_normalize(row['views'])\n",
    "        flattened_views['activity_name'] = row['name']  # Add activity name to each row\n",
    "        # flatten_views['ad']\n",
    "        # Append the flattened views to the aggregated DataFrame\n",
    "        flattened_data = pd.concat([flattened_data, flattened_views], ignore_index=True)\n",
    "\n",
    "    return flattened_data\n"
   ]
  },
  {
   "cell_type": "code",
   "execution_count": null,
   "id": "c2a41a13-9e07-4959-a77d-c73a37557c20",
   "metadata": {},
   "outputs": [],
   "source": [
    "dfs=[]\n",
    "statistics={'adview':0,'pop-up':0,'custom-made':0}\n",
    "adlibs=[\"unityads\", \"facebook.ads\", \"gms.ads\", \"doubleclick\", \"google.ads\", \"flurry\", \"appbrain\", \"adcolony\", \"applovin\", \"inmobi.ads\", \"mbridge.msdk\", \"com.vungle\", \"applovin\", \"com.facebook\", \"bytedance.sdk\", \"com.bytedance.sdk\", \"com.applovin\", \"com.unity3d\", \"com.mbridge\", \"com.adjust\", \"easybrain\", \"mopub\", \"hyprmx\", \"verizon\", \"yandex\", \"smaato\", \"ironsource\", \"unity3d\", \"fyber\", \"net.pubnative.lite\", \"io.bidmachine\", \"inmobi\", \"bytedance\", \"io.presage\", \"com.baidu.mobads\", \"com.qq.e.ads\", \"com.kwad\", \"com.ss.android.downloadlib\", \"com.zero.flutter_gromore_ads\", \"com.cssq.ad\", \"com.youdao.sdk.extra.common\"]\n",
    "for filename in filenames:  \n",
    "    outfile=f\"data/csv/{filename.split('.')[0]}.csv\"\n",
    "    if os.path.exists(outfile):\n",
    "        continue\n",
    "    if filename.endswith('.json'):\n",
    "        if os.path.getsize('data/json_output/'+filename) == 0:\n",
    "            continue\n",
    "        data=pd.read_json('data/json_output/'+filename)\n",
    "        \n",
    "        # Flatten the 'views' column of the loaded JSON data\n",
    "        flattened_data = flatten_views(data)\n",
    "        df=flattened_data[flattened_data.label!='none']\n",
    "        if len(df.label)==0:\n",
    "            # in this case, no widget is associated with view ID or event handler, meaning static ad analysis fail\n",
    "            continue\n",
    "        df[['type', 'ad-widget']] = df['label'].str.split('|',n=1, expand=True)\n",
    "        df=df[['type', 'ad-widget','handlers','activity_name']]\n",
    "\n",
    "        # Our static ad analysis may fail to exclude the widgets from 3rd-party libraries, such as ad libraries (we only care about the app code write by the app developer)\n",
    "        # Accidentally analyzing an ad library can produce tons of ad widgets, which are false positives (Based on our inference rules in paper, almost every widgets inside ad liararies' code will be regared as ad widgets)\n",
    "        # So we remove these accicentally included ad libraries' widgets.\n",
    "        df=df[~df['activity_name'].apply(lambda x: any([adlib in x for adlib in adlibs]))]  \n",
    "\n",
    "        # some view id is dynamically assigned, so the static ad analysis will output NO_ID.\n",
    "        # NO_ID can hardly provide any information to help the LLM-based exploration\n",
    "        # So we remove the widgets with `No_ID`\n",
    "        df=df[~df['ad-widget'].apply(lambda x: 'NO_ID' in x)]\n",
    "        \n",
    "        if len(df)>0:\n",
    "            df.to_csv(outfile,index=False)\n",
    "\n"
   ]
  },
  {
   "cell_type": "code",
   "execution_count": null,
   "id": "564e8cec-d67b-4909-b82d-e1a637d92d77",
   "metadata": {},
   "outputs": [],
   "source": []
  },
  {
   "cell_type": "code",
   "execution_count": null,
   "id": "833b7517-145f-4f5c-893d-5715f3328e7a",
   "metadata": {},
   "outputs": [],
   "source": []
  },
  {
   "cell_type": "markdown",
   "id": "7d33f114-19d7-4ce3-b992-97bcc5ee9ca4",
   "metadata": {},
   "source": [
    "# WTG"
   ]
  },
  {
   "cell_type": "code",
   "execution_count": null,
   "id": "586d07b5-32a5-46dd-a2cf-eaceb85b4fdc",
   "metadata": {},
   "outputs": [],
   "source": []
  }
 ],
 "metadata": {
  "kernelspec": {
   "display_name": "Python 3 (ipykernel)",
   "language": "python",
   "name": "python3"
  },
  "language_info": {
   "codemirror_mode": {
    "name": "ipython",
    "version": 3
   },
   "file_extension": ".py",
   "mimetype": "text/x-python",
   "name": "python",
   "nbconvert_exporter": "python",
   "pygments_lexer": "ipython3",
   "version": "3.9.6"
  }
 },
 "nbformat": 4,
 "nbformat_minor": 5
}
